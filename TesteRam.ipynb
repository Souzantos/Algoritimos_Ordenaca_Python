{
 "cells": [
  {
   "cell_type": "code",
   "execution_count": 13,
   "id": "384cf667-97ba-41ec-b061-d7f17759a33f",
   "metadata": {},
   "outputs": [
    {
     "name": "stdout",
     "output_type": "stream",
     "text": [
      "Requirement already satisfied: memory_profiler in c:\\users\\duduz\\appdata\\local\\programs\\python\\python39\\lib\\site-packages (0.58.0)\n",
      "Requirement already satisfied: psutil in c:\\users\\duduz\\appdata\\local\\programs\\python\\python39\\lib\\site-packages (from memory_profiler) (5.8.0)\n",
      "Note: you may need to restart the kernel to use updated packages.\n"
     ]
    }
   ],
   "source": [
    "pip install memory_profiler"
   ]
  },
  {
   "cell_type": "code",
   "execution_count": 1,
   "id": "79e51669-37fd-46b9-90d9-4096854acee8",
   "metadata": {},
   "outputs": [],
   "source": [
    "%load_ext memory_profiler"
   ]
  },
  {
   "cell_type": "code",
   "execution_count": 2,
   "id": "4bcd575d-9ab6-4de3-a519-9dd80e86cacb",
   "metadata": {},
   "outputs": [
    {
     "name": "stdout",
     "output_type": "stream",
     "text": [
      "peak memory: 52.87 MiB, increment: 0.34 MiB\n"
     ]
    }
   ],
   "source": [
    "import random\n",
    "\n",
    "def bubbleSort(lista):\n",
    "    n = len(lista)\n",
    "    for j in range(n-1):\n",
    "        for i in range(n-1):\n",
    "            if(lista[i] > lista[i+1]):\n",
    "                lista[i], lista[i+1] = lista[i+1], lista[i]\n",
    "\n",
    "x=10\n",
    "lista=[random.randint(0, 100) for _ in range(x)]                \n",
    "%memit bubbleSort(lista)"
   ]
  },
  {
   "cell_type": "code",
   "execution_count": 3,
   "id": "7ec0352e-c617-476f-ba1f-525808226ed3",
   "metadata": {},
   "outputs": [
    {
     "name": "stdout",
     "output_type": "stream",
     "text": [
      "peak memory: 53.01 MiB, increment: 0.00 MiB\n"
     ]
    }
   ],
   "source": [
    "import random\n",
    "\n",
    "def heapify(lista, n, i):\n",
    "    largest = i  # Initialize largest as root\n",
    "    l = 2 * i + 1     # left = 2*i + 1\n",
    "    r = 2 * i + 2     # right = 2*i + 2\n",
    " \n",
    "    # See if left child of root exists and is\n",
    "    # greater than root\n",
    "    if l < n and lista[largest] < lista[l]:\n",
    "        largest = l\n",
    " \n",
    "    # See if right child of root exists and is\n",
    "    # greater than root\n",
    "    if r < n and lista[largest] < lista[r]:\n",
    "        largest = r\n",
    " \n",
    "    # Change root, if needed\n",
    "    if largest != i:\n",
    "        lista[i], lista[largest] = lista[largest], lista[i]  # swap\n",
    " \n",
    "        # Heapify the root.\n",
    "        heapify(lista, n, largest)\n",
    " \n",
    "# The main function to sort an listaay of given size\n",
    " \n",
    " \n",
    "def heapSort(lista):\n",
    "    n = len(lista)\n",
    " \n",
    "    # Build a maxheap.\n",
    "    for i in range(n//2 - 1, -1, -1):\n",
    "        heapify(lista, n, i)\n",
    " \n",
    "    # One by one extract elements\n",
    "    for i in range(n-1, 0, -1):\n",
    "        lista[i], lista[0] = lista[0], lista[i]  # swap\n",
    "        heapify(lista, i, 0)\n",
    "\n",
    "\n",
    "x=10\n",
    "lista=[random.randint(0, 100) for _ in range(x)]\n",
    "%memit heapSort(lista)"
   ]
  },
  {
   "cell_type": "code",
   "execution_count": 4,
   "id": "ae6c9911-da90-42c6-9186-a2d5e9cd8ca4",
   "metadata": {},
   "outputs": [
    {
     "name": "stdout",
     "output_type": "stream",
     "text": [
      "peak memory: 53.05 MiB, increment: 0.01 MiB\n"
     ]
    }
   ],
   "source": [
    "import random\n",
    "\n",
    "def mergeSort(lista):\n",
    "    if len(lista) > 1:\n",
    " \n",
    "         # Finding the mid of the listaay\n",
    "        mid = len(lista)//2\n",
    " \n",
    "        # Dividing the listaay elements\n",
    "        L = lista[:mid]\n",
    " \n",
    "        # into 2 halves\n",
    "        R = lista[mid:]\n",
    " \n",
    "        # Sorting the first half\n",
    "        mergeSort(L)\n",
    " \n",
    "        # Sorting the second half\n",
    "        mergeSort(R)\n",
    " \n",
    "        i = j = k = 0\n",
    " \n",
    "        # Copy data to temp listaays L[] and R[]\n",
    "        while i < len(L) and j < len(R):\n",
    "            if L[i] < R[j]:\n",
    "                lista[k] = L[i]\n",
    "                i += 1\n",
    "            else:\n",
    "                lista[k] = R[j]\n",
    "                j += 1\n",
    "            k += 1\n",
    " \n",
    "        # Checking if any element was left\n",
    "        while i < len(L):\n",
    "            lista[k] = L[i]\n",
    "            i += 1\n",
    "            k += 1\n",
    " \n",
    "        while j < len(R):\n",
    "            lista[k] = R[j]\n",
    "            j += 1\n",
    "            k += 1\n",
    "\n",
    "# Python program for implementation of heap Sort\n",
    " \n",
    "# To heapify subtree rooted at index i.\n",
    "# n is size of heap\n",
    "\n",
    "x=10\n",
    "lista=[random.randint(0, 100) for _ in range(x)]                \n",
    "%memit mergeSort(lista)"
   ]
  },
  {
   "cell_type": "code",
   "execution_count": 5,
   "id": "771a767a-bf16-4504-8821-68ed7c0ca33b",
   "metadata": {},
   "outputs": [
    {
     "name": "stdout",
     "output_type": "stream",
     "text": [
      "[0, 1, 2, 3, 4, 5, 6, 7, 8, 9, 10, 11, 12, 13, 14, 15, 16, 17, 18, 19, 20, 21, 22, 23, 24, 25, 26, 27, 28, 29, 30, 31, 32, 33, 34, 35, 36, 37, 38, 39, 40, 41, 42, 43, 44, 45, 46, 47, 48, 49, 50, 51, 52, 53, 54, 55, 56, 57, 58, 59, 60, 61, 62, 63, 64, 65, 66, 67, 68, 69, 70, 71, 72, 73, 74, 75, 76, 77, 78, 79, 80, 81, 82, 83, 84, 85, 86, 87, 88, 89, 90, 91, 92, 93, 94, 95, 96, 97, 98, 99]\n"
     ]
    }
   ],
   "source": [
    "lista = list(range(100))\n",
    "print(lista)"
   ]
  },
  {
   "cell_type": "code",
   "execution_count": null,
   "id": "5ba2972f-6a15-4ee9-8d6a-83766a171966",
   "metadata": {},
   "outputs": [],
   "source": []
  }
 ],
 "metadata": {
  "kernelspec": {
   "display_name": "Python 3",
   "language": "python",
   "name": "python3"
  },
  "language_info": {
   "codemirror_mode": {
    "name": "ipython",
    "version": 3
   },
   "file_extension": ".py",
   "mimetype": "text/x-python",
   "name": "python",
   "nbconvert_exporter": "python",
   "pygments_lexer": "ipython3",
   "version": "3.9.6"
  }
 },
 "nbformat": 4,
 "nbformat_minor": 5
}
