{
 "cells": [
  {
   "cell_type": "code",
   "execution_count": 59,
   "id": "3c38e6d2-4e7f-4da0-ab65-01f82d662d1c",
   "metadata": {},
   "outputs": [],
   "source": [
    "%load_ext memory_profiler"
   ]
  },
  {
   "cell_type": "code",
   "execution_count": 6,
   "id": "5295901a-b1bc-489d-b162-be5a9feba3fe",
   "metadata": {},
   "outputs": [
    {
     "name": "stdout",
     "output_type": "stream",
     "text": [
      "duracao do bubblesort: 1508.653211\n",
      "duracao do mergesort: 0.666742\n",
      "duracao do heapsort: 1.090070\n"
     ]
    }
   ],
   "source": [
    "import time\n",
    "import timeit\n",
    "import random\n",
    "\n",
    "def bubbleSort(lista):\n",
    "    n = len(lista)\n",
    "    for j in range(n-1):\n",
    "        for i in range(n-1):\n",
    "            if(lista[i] > lista[i+1]):\n",
    "                lista[i], lista[i+1] = lista[i+1], lista[i]\n",
    "                \n",
    "def mergeSort(lista):\n",
    "    if len(lista) > 1:\n",
    " \n",
    "         # Finding the mid of the listaay\n",
    "        mid = len(lista)//2\n",
    " \n",
    "        # Dividing the listaay elements\n",
    "        L = lista[:mid]\n",
    " \n",
    "        # into 2 halves\n",
    "        R = lista[mid:]\n",
    " \n",
    "        # Sorting the first half\n",
    "        mergeSort(L)\n",
    " \n",
    "        # Sorting the second half\n",
    "        mergeSort(R)\n",
    " \n",
    "        i = j = k = 0\n",
    " \n",
    "        # Copy data to temp listaays L[] and R[]\n",
    "        while i < len(L) and j < len(R):\n",
    "            if L[i] < R[j]:\n",
    "                lista[k] = L[i]\n",
    "                i += 1\n",
    "            else:\n",
    "                lista[k] = R[j]\n",
    "                j += 1\n",
    "            k += 1\n",
    " \n",
    "        # Checking if any element was left\n",
    "        while i < len(L):\n",
    "            lista[k] = L[i]\n",
    "            i += 1\n",
    "            k += 1\n",
    " \n",
    "        while j < len(R):\n",
    "            lista[k] = R[j]\n",
    "            j += 1\n",
    "            k += 1\n",
    "\n",
    "# Python program for implementation of heap Sort\n",
    " \n",
    "# To heapify subtree rooted at index i.\n",
    "# n is size of heap\n",
    " \n",
    " \n",
    "def heapify(lista, n, i):\n",
    "    largest = i  # Initialize largest as root\n",
    "    l = 2 * i + 1     # left = 2*i + 1\n",
    "    r = 2 * i + 2     # right = 2*i + 2\n",
    " \n",
    "    # See if left child of root exists and is\n",
    "    # greater than root\n",
    "    if l < n and lista[largest] < lista[l]:\n",
    "        largest = l\n",
    " \n",
    "    # See if right child of root exists and is\n",
    "    # greater than root\n",
    "    if r < n and lista[largest] < lista[r]:\n",
    "        largest = r\n",
    " \n",
    "    # Change root, if needed\n",
    "    if largest != i:\n",
    "        lista[i], lista[largest] = lista[largest], lista[i]  # swap\n",
    " \n",
    "        # Heapify the root.\n",
    "        heapify(lista, n, largest)\n",
    " \n",
    "# The main function to sort an listaay of given size\n",
    " \n",
    " \n",
    "def heapSort(lista):\n",
    "    n = len(lista)\n",
    " \n",
    "    # Build a maxheap.\n",
    "    for i in range(n//2 - 1, -1, -1):\n",
    "        heapify(lista, n, i)\n",
    " \n",
    "    # One by one extract elements\n",
    "    for i in range(n-1, 0, -1):\n",
    "        lista[i], lista[0] = lista[0], lista[i]  # swap\n",
    "        heapify(lista, i, 0)\n",
    "\n",
    "\n",
    "#x=10\n",
    "#lista=[random.randint(0, 100) for _ in range(x)]\n",
    "lista = list(range(100000))\n",
    "#print(lista)\n",
    "#bubbleSort(lista)\n",
    "#mergeSort(lista)\n",
    "#heapSort(lista)\n",
    "#print(\"ordenado: \")\n",
    "#print(lista)\n",
    "\n",
    "#calcular duração do metodo bubblesort\n",
    "inicio = timeit.default_timer()\n",
    "bubbleSort(lista)\n",
    "fim = timeit.default_timer()\n",
    "print ('duracao do bubblesort: %f' % (fim - inicio))\n",
    "\n",
    "#calcular duração do metodo mergesort\n",
    "inicio = timeit.default_timer()\n",
    "mergeSort(lista)\n",
    "fim = timeit.default_timer()\n",
    "print ('duracao do mergesort: %f' % (fim - inicio))\n",
    "\n",
    "\n",
    "#calcular duração do metodo heapsort\n",
    "inicio = timeit.default_timer()\n",
    "heapSort(lista)\n",
    "fim = timeit.default_timer()\n",
    "print ('duracao do heapsort: %f' % (fim - inicio))\n"
   ]
  },
  {
   "cell_type": "code",
   "execution_count": 61,
   "id": "06d97181-0cfc-420a-be97-c767672a47b3",
   "metadata": {},
   "outputs": [
    {
     "name": "stdout",
     "output_type": "stream",
     "text": [
      "Writing mprun_demo.py\n"
     ]
    }
   ],
   "source": []
  },
  {
   "cell_type": "code",
   "execution_count": 63,
   "id": "ab245458-b99c-42d4-b398-8258af55ae10",
   "metadata": {},
   "outputs": [
    {
     "name": "stdout",
     "output_type": "stream",
     "text": [
      "*** KeyboardInterrupt exception caught in code being profiled.\n"
     ]
    },
    {
     "data": {
      "text/plain": [
       "Filename: C:\\Users\\duduz\\mprun_demo.py\n",
       "\n",
       "Line #    Mem usage    Increment  Occurences   Line Contents\n",
       "============================================================\n",
       "     1     49.5 MiB     49.5 MiB           1   def bubbleSort(lista):\n",
       "     2     49.5 MiB      0.0 MiB           1       n = len(lista)\n",
       "     3     49.5 MiB      0.0 MiB         640       for j in range(n-1):\n",
       "     4     49.5 MiB      0.0 MiB     6392573           for i in range(n-1):\n",
       "     5     49.5 MiB      0.0 MiB     6391933               if(lista[i] > lista[i+1]):\n",
       "     6                                                         lista[i], lista[i+1] = lista[i+1], lista[i]"
      ]
     },
     "metadata": {},
     "output_type": "display_data"
    }
   ],
   "source": []
  },
  {
   "cell_type": "code",
   "execution_count": null,
   "id": "2ca75f18-1fe7-4cdc-8ae8-f5b3bd51dfc4",
   "metadata": {},
   "outputs": [],
   "source": []
  }
 ],
 "metadata": {
  "kernelspec": {
   "display_name": "Python 3",
   "language": "python",
   "name": "python3"
  },
  "language_info": {
   "codemirror_mode": {
    "name": "ipython",
    "version": 3
   },
   "file_extension": ".py",
   "mimetype": "text/x-python",
   "name": "python",
   "nbconvert_exporter": "python",
   "pygments_lexer": "ipython3",
   "version": "3.9.6"
  }
 },
 "nbformat": 4,
 "nbformat_minor": 5
}
